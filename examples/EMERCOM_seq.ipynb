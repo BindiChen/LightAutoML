{
 "cells": [
  {
   "cell_type": "markdown",
   "metadata": {},
   "source": [
    "# Step 0.1. Import necessary libraries "
   ]
  },
  {
   "cell_type": "code",
   "execution_count": null,
   "metadata": {},
   "outputs": [],
   "source": [
    "# Standard python libraries\n",
    "import logging\n",
    "import os\n",
    "import time\n",
    "\n",
    "# Installed libraries\n",
    "import numpy as np\n",
    "import pandas as pd\n",
    "from sklearn.metrics import roc_auc_score, median_absolute_error\n",
    "from sklearn.model_selection import train_test_split\n",
    "import torch\n",
    "from matplotlib import pyplot as plt\n",
    "import matplotlib.dates as mdates\n",
    "\n",
    "from tqdm.notebook import tqdm\n",
    "\n",
    "from lightautoml.tasks import Task\n",
    "from lightautoml.addons.autots.base import AutoTS\n",
    "from lightautoml.dataset.roles import DatetimeRole"
   ]
  },
  {
   "cell_type": "code",
   "execution_count": null,
   "metadata": {},
   "outputs": [],
   "source": [
    "X_train = pd.read_csv('ts_dataset_1id.csv')\n",
    "X_train['date'] = pd.to_datetime(X_train.date)"
   ]
  },
  {
   "cell_type": "code",
   "execution_count": null,
   "metadata": {},
   "outputs": [],
   "source": [
    "fig, ax = plt.subplots(figsize=(20, 10))\n",
    "ax.plot('date', 'stage_max', data=X_train)\n",
    "fmt_half_year = mdates.MonthLocator(interval=12)\n",
    "ax.xaxis.set_major_locator(fmt_half_year)\n",
    "fmt_month = mdates.MonthLocator()\n",
    "ax.xaxis.set_minor_locator(fmt_month)\n",
    "ax.xaxis.set_major_formatter(mdates.DateFormatter('%Y-%m'))\n",
    "ax.format_xdata = mdates.DateFormatter('%Y-%m')\n",
    "\n",
    "fig.autofmt_xdate()\n",
    "plt.show()"
   ]
  },
  {
   "cell_type": "code",
   "execution_count": null,
   "metadata": {},
   "outputs": [],
   "source": [
    "fig, ax = plt.subplots(figsize=(20, 10))\n",
    "ax.plot('date', 'stage_max', data=X_train[X_train.date >= '2018-01-01'], linestyle='none', marker='o')\n",
    "fmt_half_year = mdates.MonthLocator(interval=1)\n",
    "ax.xaxis.set_major_locator(fmt_half_year)\n",
    "fmt_month = mdates.MonthLocator()\n",
    "ax.xaxis.set_minor_locator(fmt_month)\n",
    "ax.xaxis.set_major_formatter(mdates.DateFormatter('%Y-%m'))\n",
    "ax.format_xdata = mdates.DateFormatter('%Y-%m')\n",
    "\n",
    "fig.autofmt_xdate()\n",
    "plt.show()"
   ]
  },
  {
   "cell_type": "code",
   "execution_count": null,
   "metadata": {},
   "outputs": [],
   "source": [
    "col = X_train[X_train.date >= '2018-01-01'].date"
   ]
  },
  {
   "cell_type": "code",
   "execution_count": null,
   "metadata": {},
   "outputs": [],
   "source": [
    "seq_params = {'seq0': {'case': 'next_values', # тип задачи, которую решаем - предсказание следующих значений ряда\n",
    "                           'params': {'n_target': 7, # число точек, на сколько вперед предсказываем\n",
    "                                      'history': 7, # размер истории для подсчета признаков\n",
    "                                      'step': 1, # шаг, через сколько точек взять следующие наблюдение\n",
    "                                      'from_last': True, # датасет заканчивается на последнем доступном наблюдении \n",
    "                                      'test_last': False # предсказывать только последний участок из теста\n",
    "                                     }},}\n",
    "trend_params = {'trend': False}"
   ]
  },
  {
   "cell_type": "code",
   "execution_count": null,
   "metadata": {
    "scrolled": true
   },
   "outputs": [],
   "source": [
    "%%time\n",
    "\n",
    "# трейн датасет\n",
    "train = X_train.iloc[:-len(col)].copy().fillna(0)\n",
    "# тест датасет\n",
    "# +7 точек пересечения с трейном для подсчета признаков на первую дату теста\n",
    "test = X_train.iloc[-(len(col)+7):].copy().fillna(0)\n",
    "\n",
    "roles = {'target': 'stage_max',\n",
    "         DatetimeRole(seasonality=('d', 'm', 'doy')): 'date'}\n",
    "task = Task('multi:reg', greater_is_better=False, metric='mae', loss='mae')\n",
    "model = AutoTS(task, seq_params=seq_params, trend_params=trend_params)\n",
    "\n",
    "oof_pred_seq, median = model.fit_predict(train, roles)\n",
    "pred, trend = model.predict(test)"
   ]
  },
  {
   "cell_type": "code",
   "execution_count": null,
   "metadata": {},
   "outputs": [],
   "source": [
    "# структура предсказаний\n",
    "# pred:\n",
    "# pred[0] - предсказание на первых history теста,\n",
    "# в нашем случае - с признаков последней недели трейна на первую неделю теста\n",
    "# pred[-1] - предсказание последние history теста,\n",
    "# в нашем случае это признаки последних 7 дней тестовых данных на неизветное для нас будущее."
   ]
  },
  {
   "cell_type": "code",
   "execution_count": null,
   "metadata": {},
   "outputs": [],
   "source": [
    "fig, ax = plt.subplots(figsize=(20, 10))\n",
    "ax.plot(col, test.stage_max.values[7:], c='b', label='Ground Truth')\n",
    "ax.plot(col, pred[:-1, 0], c='r', label='1st day prediction')\n",
    "ax.plot(col, [np.NaN] * 1 + list(pred[:-2, 1]), c='k', label='2st day prediction')\n",
    "ax.plot(col, [np.NaN] * 6 + list(pred[:-7, 6]), c='g', label='7st day prediction')\n",
    "plt.legend()\n",
    "plt.show()"
   ]
  },
  {
   "cell_type": "code",
   "execution_count": null,
   "metadata": {
    "scrolled": true
   },
   "outputs": [],
   "source": [
    "# на текущий момент не хотим считать метрику по 7 наблюдениям перед обрывом в наблюденяих,\n",
    "# так как там неправильно собирается целевая переменная и предикт (на данных с июня предсказываем ноябрь)\n",
    "COND = ((col <= '2018-06-23') | (col > '2018-06-30')).values"
   ]
  },
  {
   "cell_type": "code",
   "execution_count": null,
   "metadata": {},
   "outputs": [],
   "source": [
    "for i in range(7):\n",
    "    print(\"Day {}, MAE: {}\".format(i,\n",
    "                                   np.round(median_absolute_error(test[roles['target']].values[7:][COND][i:],\n",
    "                                                                  pred[:-1][COND][:-i, i] if i!= 0 else pred[:-1][COND][:, i]), 4)))"
   ]
  },
  {
   "cell_type": "markdown",
   "metadata": {},
   "source": [
    "## Сравнение с бейзлайнами:"
   ]
  },
  {
   "cell_type": "markdown",
   "metadata": {},
   "source": [
    "### Медиана по дню недели."
   ]
  },
  {
   "cell_type": "code",
   "execution_count": null,
   "metadata": {},
   "outputs": [],
   "source": [
    "train_c = train[['date', 'stage_max']].copy()\n",
    "test_c = test[['date', 'stage_max']].iloc[7:].copy()\n",
    "for df in [train_c, test_c]:\n",
    "    df['dayofyear'] = pd.to_datetime(df.date).dt.dayofyear\n",
    "    \n",
    "statistic = train_c.groupby('dayofyear')['stage_max'].apply(np.median)\n",
    "pred_naive = test_c.dayofyear.map(statistic)\n",
    "print(\"Naive, MAE: {}\".format(np.round(median_absolute_error(test_c[roles['target']].values[COND], pred_naive[COND]), 4)))"
   ]
  },
  {
   "cell_type": "code",
   "execution_count": null,
   "metadata": {},
   "outputs": [],
   "source": [
    "fig, ax = plt.subplots(figsize=(20, 10))\n",
    "ax.plot(col, test.stage_max.values[7:], c='b', label='Ground Truth')\n",
    "ax.plot(col, pred_naive.values, c='r', label='prediction')\n",
    "\n",
    "plt.legend()\n",
    "plt.show()"
   ]
  },
  {
   "cell_type": "markdown",
   "metadata": {},
   "source": [
    "### Значение за предыдущий год."
   ]
  },
  {
   "cell_type": "code",
   "execution_count": null,
   "metadata": {},
   "outputs": [],
   "source": [
    "train_c = train[['date', 'stage_max']].copy()\n",
    "train_c = train_c[train_c.date >= '2017-01-01']\n",
    "test_c = test[['date', 'stage_max']].iloc[7:].copy()\n",
    "for df in [train_c, test_c]:\n",
    "    df['dayofyear'] = pd.to_datetime(df.date).dt.dayofyear\n",
    "    \n",
    "statistic = train_c.groupby('dayofyear')['stage_max'].apply(np.median)\n",
    "pred_naive = test_c.dayofyear.map(statistic)\n",
    "print(\"Naive, MAE: {}\".format(np.round(median_absolute_error(test_c[roles['target']].values[COND], pred_naive[COND]), 4)))"
   ]
  },
  {
   "cell_type": "markdown",
   "metadata": {},
   "source": [
    "### Эвристика с ТОП2 private lb хакатона."
   ]
  },
  {
   "cell_type": "code",
   "execution_count": null,
   "metadata": {},
   "outputs": [],
   "source": [
    "train_c = train[['date', 'stage_max']].copy()\n",
    "test_c = test[['date', 'stage_max']].iloc[7:].copy()\n",
    "for df in [train_c, test_c]:\n",
    "    df['year'] = pd.to_datetime(df.date).dt.year\n",
    "    df['dayofyear'] = pd.to_datetime(df.date).dt.dayofyear\n",
    "\n",
    "\n",
    "df_avg = []\n",
    "for pair, group in train_c.groupby(['year']):\n",
    "    avg_at_year = pd.concat([group['stage_max'].shift(i) for i in range(-10, 10)], axis=1).mean(axis=1)\n",
    "    avg_at_year = pd.DataFrame(avg_at_year, columns=['stage_max_avg'])\n",
    "    avg_at_year['year'] = pair\n",
    "    avg_at_year['date'] = group['date']\n",
    "    df_avg.append(avg_at_year)\n",
    "df_avg = pd.concat(df_avg)\n",
    "df_avg['dayofyear'] =  pd.to_datetime(df_avg['date']).dt.dayofyear\n",
    "statistic2 = df_avg.groupby(['dayofyear'])['stage_max_avg'].median()\n",
    "\n",
    "pred_naive2 = test_c.dayofyear.map(statistic2)\n",
    "print(\"Naive 2, MAE: {}\".format(np.round(median_absolute_error(test_c[roles['target']].values[COND], pred_naive2[COND]), 4)))\n"
   ]
  },
  {
   "cell_type": "code",
   "execution_count": null,
   "metadata": {},
   "outputs": [],
   "source": [
    "fig, ax = plt.subplots(figsize=(20, 10))\n",
    "ax.plot(col, test.stage_max.values[7:], c='b', label='Ground Truth')\n",
    "ax.plot(col, pred_naive2.values, c='r', label='prediction')\n",
    "\n",
    "plt.legend()\n",
    "plt.show()"
   ]
  },
  {
   "cell_type": "markdown",
   "metadata": {},
   "source": [
    "### Медиана в скользящем окне размера 7."
   ]
  },
  {
   "cell_type": "code",
   "execution_count": null,
   "metadata": {},
   "outputs": [],
   "source": [
    "train_c = train[['date', 'stage_max']].copy()\n",
    "test_c = test[['date', 'stage_max']].copy()\n",
    "\n",
    "pred_rolling = test_c.rolling(7).median().dropna().values.flatten()[:-1]    \n",
    "for i in range(7):\n",
    "    print(\"Day {}, MAE: {}\".format(i,\n",
    "                                   np.round(median_absolute_error(test[roles['target']].values[7:][COND][i:],\n",
    "                                                                  pred_rolling[COND][:-i] if i!=0 else pred_rolling[COND]), 4)))"
   ]
  },
  {
   "cell_type": "code",
   "execution_count": null,
   "metadata": {},
   "outputs": [],
   "source": [
    "fig, ax = plt.subplots(figsize=(20, 10))\n",
    "ax.plot(col, test.stage_max.values[7:], c='b', label='Ground Truth')\n",
    "ax.plot(col, pred_rolling, c='r', label='1st day prediction')\n",
    "ax.plot(col, [np.NaN] * 6 + list(pred_rolling[:-6]), c='g', label='7st day prediction')\n",
    "plt.legend()\n",
    "plt.show()"
   ]
  },
  {
   "cell_type": "markdown",
   "metadata": {},
   "source": [
    "### Предсказание последним известным значением."
   ]
  },
  {
   "cell_type": "code",
   "execution_count": null,
   "metadata": {},
   "outputs": [],
   "source": [
    "def get_last(x):\n",
    "    return list(x)[-1]\n",
    "\n",
    "train_c = train[['date', 'stage_max']].copy()\n",
    "test_c = test[['date', 'stage_max']].copy()\n",
    "\n",
    "pred_rolling_last = test_c.rolling(7).apply(get_last).dropna().values.flatten()[:-1]\n",
    "for i in range(7):\n",
    "    print(\"Day {}, MAE: {}\".format(i,\n",
    "                                   np.round(median_absolute_error(test[roles['target']].values[7:][COND][i:],\n",
    "                                                                  pred_rolling_last[COND][:-i] if i!=0 else pred_rolling_last[COND]), 4)))"
   ]
  },
  {
   "cell_type": "markdown",
   "metadata": {},
   "source": [
    "#### Еще раз метрики модели"
   ]
  },
  {
   "cell_type": "code",
   "execution_count": null,
   "metadata": {},
   "outputs": [],
   "source": [
    "\n",
    "for i in range(7):\n",
    "    print(\"Day {}, MAE: {}\".format(i,\n",
    "                                   np.round(median_absolute_error(test[roles['target']].values[7:][COND][i:],\n",
    "                                                                  pred[:-1][COND][:-i, i] if i!= 0 else pred[:-1][COND][:, i]), 4)))"
   ]
  },
  {
   "cell_type": "code",
   "execution_count": null,
   "metadata": {},
   "outputs": [],
   "source": [
    "fig, ax = plt.subplots(figsize=(20, 10))\n",
    "ax.plot(col, test.stage_max.values[7:], c='b', label='Ground Truth')\n",
    "ax.plot(col, pred_rolling_last, c='r', label='1st day prediction')\n",
    "ax.plot(col, [np.NaN] * 6 + list(pred_rolling_last[:-6]), c='g', label='7st day prediction')\n",
    "plt.legend()\n",
    "plt.show()"
   ]
  },
  {
   "cell_type": "code",
   "execution_count": null,
   "metadata": {},
   "outputs": [],
   "source": []
  }
 ],
 "metadata": {
  "kernelspec": {
   "display_name": "Python 3",
   "language": "python",
   "name": "python3"
  },
  "language_info": {
   "codemirror_mode": {
    "name": "ipython",
    "version": 3
   },
   "file_extension": ".py",
   "mimetype": "text/x-python",
   "name": "python",
   "nbconvert_exporter": "python",
   "pygments_lexer": "ipython3",
   "version": "3.6.9"
  }
 },
 "nbformat": 4,
 "nbformat_minor": 4
}
