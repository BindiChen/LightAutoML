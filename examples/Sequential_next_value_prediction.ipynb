{
 "cells": [
  {
   "cell_type": "markdown",
   "metadata": {},
   "source": [
    "# Step 0.1. Import necessary libraries "
   ]
  },
  {
   "cell_type": "code",
   "execution_count": null,
   "metadata": {},
   "outputs": [],
   "source": [
    "# Standard python libraries\n",
    "import logging\n",
    "import os\n",
    "import time\n",
    "\n",
    "# Installed libraries\n",
    "import numpy as np\n",
    "import pandas as pd\n",
    "from sklearn.metrics import roc_auc_score, median_absolute_error\n",
    "from sklearn.model_selection import train_test_split\n",
    "import torch\n",
    "from matplotlib import pyplot as plt\n",
    "from tqdm.notebook import tqdm\n",
    "\n",
    "from lightautoml.tasks import Task\n",
    "from lightautoml.addons.autots.base import AutoTS"
   ]
  },
  {
   "cell_type": "code",
   "execution_count": null,
   "metadata": {},
   "outputs": [],
   "source": [
    "def dict_to_str(d):\n",
    "    s = ''\n",
    "    for key, value in d.items():\n",
    "        s += f'_{key}:{value}'\n",
    "    return s"
   ]
  },
  {
   "cell_type": "code",
   "execution_count": null,
   "metadata": {},
   "outputs": [],
   "source": [
    "PATH = '../../LAMA/LightAutoML/ts_example_anon/all_anonimized'\n",
    "\n",
    "STEP = 7\n",
    "PLOT = True\n",
    "\n",
    "seq_params = {'seq0': {'case': 'next_values', \n",
    "                           'params': {'n_target': STEP,\n",
    "                                      'history': np.maximum(7, STEP),\n",
    "                                      'step': 1, 'from_last': True}},}\n",
    "\n",
    "trend_params_0 = {'trend': True, \n",
    "                  'train_on_trend': False,\n",
    "                  'trend_type': 'decompose', # 'decompose', 'decompose_STL', 'linear' or 'rolling'\n",
    "                  'trend_size': 7, \n",
    "                  'decompose_period': 30, \n",
    "                  'detect_step_quantile': 0.01, \n",
    "                  'detect_step_window': 7, \n",
    "                  'detect_step_threshold': 0.7,\n",
    "                  'rolling_size': 7, \n",
    "                  'verbose': 0}"
   ]
  },
  {
   "cell_type": "code",
   "execution_count": null,
   "metadata": {
    "scrolled": true
   },
   "outputs": [],
   "source": [
    "for trend_params in [trend_params_0]:\n",
    "    NAME = dict_to_str(trend_params)\n",
    "    i = 0\n",
    "    for seq in tqdm(os.listdir(PATH)):\n",
    "        cur_path = os.path.join(PATH, seq)\n",
    "        df = pd.read_csv(cur_path)\n",
    "        df = df.rename(columns={'Unnamed: 0': 'date', seq.split('.')[0]: 'signal'})\n",
    "\n",
    "        train = df.iloc[:-STEP].copy()\n",
    "        test = df.iloc[-STEP:].copy()\n",
    "\n",
    "        roles = {'target': 'signal'}\n",
    "        task = Task('multi:reg', greater_is_better=False, metric='mae', loss='mae')\n",
    "        model = AutoTS(task, seq_params=seq_params, trend_params=trend_params)\n",
    "\n",
    "        oof_pred_seq, median = model.fit_predict(train, roles)\n",
    "        pred, trend = model.predict(train)\n",
    "        print(f'MAE: {np.round(median_absolute_error(test.signal.values[-STEP:], pred), 4)}')\n",
    "        \n",
    "        if PLOT:\n",
    "            plt.figure(figsize=[10, 5])\n",
    "            plt.plot(train.signal.values.tolist() + [np.NaN]*len(test), c='b', label='Train')\n",
    "            plt.plot(median.tolist() + [np.NaN]*len(test), c='k', label='trend oof')\n",
    "            plt.plot([np.NaN]*len(train) + test.signal.values[-STEP:].tolist(), c='g', label='True')\n",
    "            plt.plot([np.NaN]*len(train) + trend.tolist(), c='k',label='Trend')\n",
    "            plt.plot([np.NaN]*len(train) + pred.tolist(), c='r', label='Pred')\n",
    "            plt.title(f'{seq} MAE: {np.round(median_absolute_error(test.signal.values[-STEP:], pred), 4)}')\n",
    "            plt.legend()\n",
    "            plt.show()\n",
    "        print('=============')\n",
    "\n",
    "\n",
    "\n",
    "        i+=1"
   ]
  }
 ],
 "metadata": {
  "kernelspec": {
   "display_name": "Python 3",
   "language": "python",
   "name": "python3"
  },
  "language_info": {
   "codemirror_mode": {
    "name": "ipython",
    "version": 3
   },
   "file_extension": ".py",
   "mimetype": "text/x-python",
   "name": "python",
   "nbconvert_exporter": "python",
   "pygments_lexer": "ipython3",
   "version": "3.6.9"
  }
 },
 "nbformat": 4,
 "nbformat_minor": 4
}
