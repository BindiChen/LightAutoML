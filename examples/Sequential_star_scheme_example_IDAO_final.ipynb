{
 "cells": [
  {
   "cell_type": "markdown",
   "metadata": {},
   "source": [
    "# Step 0.1. Import necessary libraries "
   ]
  },
  {
   "cell_type": "code",
   "execution_count": 1,
   "metadata": {},
   "outputs": [],
   "source": [
    "# Standard python libraries\n",
    "import logging\n",
    "import os\n",
    "import time\n",
    "logging.basicConfig(format='[%(asctime)s] (%(levelname)s): %(message)s', level=logging.INFO)\n",
    "\n",
    "# Installed libraries\n",
    "import numpy as np\n",
    "import pandas as pd\n",
    "from sklearn.metrics import log_loss, roc_auc_score\n",
    "from sklearn.model_selection import train_test_split\n",
    "import torch\n",
    "from matplotlib import pyplot as plt\n",
    "\n",
    "# Imports from our package\n",
    "from lightautoml.automl.base import AutoML\n",
    "from lightautoml.ml_algo.boost_lgbm import BoostLGBM\n",
    "from lightautoml.ml_algo.tuning.optuna import OptunaTuner\n",
    "from lightautoml.pipelines.features.lgb_pipeline import LGBSimpleFeatures, LGBSeqSimpleFeatures, LGBMultiSeqSimpleFeatures\n",
    "from lightautoml.pipelines.ml.base import MLPipeline\n",
    "from lightautoml.pipelines.selection.importance_based import ImportanceCutoffSelector, ModelBasedImportanceEstimator\n",
    "from lightautoml.reader.base import PandasToPandasReader, DictToNumpySeqReader\n",
    "from lightautoml.tasks import Task\n",
    "from lightautoml.automl.blend import WeightedBlender\n",
    "from lightautoml.dataset.seq_np_pd_dataset import SeqNumpyPandasDataset\n",
    "from lightautoml.dataset.roles import NumericRole, CategoryRole, DatetimeRole\n",
    "from lightautoml.dataset.np_pd_dataset import NumpyDataset, PandasDataset\n",
    "from lightautoml.ml_algo.random_forest import RandomForestSklearn\n",
    "from lightautoml.validation.np_iterators import TimeSeriesIterator"
   ]
  },
  {
   "cell_type": "code",
   "execution_count": null,
   "metadata": {},
   "outputs": [],
   "source": [
    "DATA_FOLDER = ''\n",
    "train = pd.read_csv(f'{DATA_FOLDER}/funnel.csv' )\n",
    "\n",
    "clients = pd.read_csv(f'{DATA_FOLDER}/client.csv')\n",
    "deals = pd.read_csv(f'{DATA_FOLDER}/deals.csv')\n",
    "aum = pd.read_csv(f'{DATA_FOLDER}/aum.csv')\n",
    "trxn = pd.read_csv(f'{DATA_FOLDER}/trxn.csv')\n",
    "com = pd.read_csv(f'{DATA_FOLDER}/com.csv')\n",
    "appl = pd.read_csv(f'{DATA_FOLDER}/appl.csv')\n",
    "payments = pd.read_csv(f'{DATA_FOLDER}/payments.csv')\n",
    "balance = pd.read_csv(f'{DATA_FOLDER}/balance.csv')"
   ]
  },
  {
   "cell_type": "code",
   "execution_count": 3,
   "metadata": {},
   "outputs": [
    {
     "data": {
      "text/plain": [
       "((21498, 16),\n",
       " (21498, 8),\n",
       " (109016, 8),\n",
       " (117392, 4),\n",
       " (3035705, 11),\n",
       " (113055, 10),\n",
       " (12030, 6),\n",
       " (188068, 4),\n",
       " (1194684, 9))"
      ]
     },
     "execution_count": 3,
     "metadata": {},
     "output_type": "execute_result"
    }
   ],
   "source": [
    "train.shape, clients.shape, deals.shape, aum.shape, trxn.shape, com.shape, appl.shape, payments.shape, balance.shape"
   ]
  },
  {
   "cell_type": "code",
   "execution_count": 4,
   "metadata": {},
   "outputs": [
    {
     "data": {
      "text/html": [
       "<div>\n",
       "<style scoped>\n",
       "    .dataframe tbody tr th:only-of-type {\n",
       "        vertical-align: middle;\n",
       "    }\n",
       "\n",
       "    .dataframe tbody tr th {\n",
       "        vertical-align: top;\n",
       "    }\n",
       "\n",
       "    .dataframe thead th {\n",
       "        text-align: right;\n",
       "    }\n",
       "</style>\n",
       "<table border=\"1\" class=\"dataframe\">\n",
       "  <thead>\n",
       "    <tr style=\"text-align: right;\">\n",
       "      <th></th>\n",
       "      <th>client_id</th>\n",
       "      <th>sale_flg</th>\n",
       "      <th>sale_amount</th>\n",
       "      <th>contacts</th>\n",
       "      <th>feature_1</th>\n",
       "      <th>client_segment</th>\n",
       "      <th>feature_2</th>\n",
       "      <th>feature_3</th>\n",
       "      <th>feature_4</th>\n",
       "      <th>feature_5</th>\n",
       "      <th>feature_6</th>\n",
       "      <th>feature_7</th>\n",
       "      <th>feature_8</th>\n",
       "      <th>feature_9</th>\n",
       "      <th>feature_10</th>\n",
       "      <th>region_cd</th>\n",
       "    </tr>\n",
       "  </thead>\n",
       "  <tbody>\n",
       "    <tr>\n",
       "      <th>0</th>\n",
       "      <td>7513301859607023584</td>\n",
       "      <td>0</td>\n",
       "      <td>NaN</td>\n",
       "      <td>1</td>\n",
       "      <td>7</td>\n",
       "      <td>13.0</td>\n",
       "      <td>571533.0</td>\n",
       "      <td>15717.0</td>\n",
       "      <td>0.0</td>\n",
       "      <td>0.0</td>\n",
       "      <td>0.0</td>\n",
       "      <td>571852.0</td>\n",
       "      <td>472605.0</td>\n",
       "      <td>10.4</td>\n",
       "      <td>12548.0</td>\n",
       "      <td>86.0</td>\n",
       "    </tr>\n",
       "    <tr>\n",
       "      <th>1</th>\n",
       "      <td>9157009756404187626</td>\n",
       "      <td>0</td>\n",
       "      <td>NaN</td>\n",
       "      <td>1</td>\n",
       "      <td>3</td>\n",
       "      <td>13.0</td>\n",
       "      <td>3642369.0</td>\n",
       "      <td>94787.0</td>\n",
       "      <td>0.0</td>\n",
       "      <td>0.0</td>\n",
       "      <td>84823.0</td>\n",
       "      <td>3642369.0</td>\n",
       "      <td>3314257.0</td>\n",
       "      <td>8.9</td>\n",
       "      <td>77210.0</td>\n",
       "      <td>2.0</td>\n",
       "    </tr>\n",
       "    <tr>\n",
       "      <th>2</th>\n",
       "      <td>-1893104556496814867</td>\n",
       "      <td>0</td>\n",
       "      <td>NaN</td>\n",
       "      <td>1</td>\n",
       "      <td>5</td>\n",
       "      <td>16.0</td>\n",
       "      <td>352826.0</td>\n",
       "      <td>5500.0</td>\n",
       "      <td>0.0</td>\n",
       "      <td>6822.0</td>\n",
       "      <td>0.0</td>\n",
       "      <td>265893.0</td>\n",
       "      <td>204534.0</td>\n",
       "      <td>8.9</td>\n",
       "      <td>5508.0</td>\n",
       "      <td>52.0</td>\n",
       "    </tr>\n",
       "    <tr>\n",
       "      <th>3</th>\n",
       "      <td>6886062013213911831</td>\n",
       "      <td>0</td>\n",
       "      <td>NaN</td>\n",
       "      <td>1</td>\n",
       "      <td>4</td>\n",
       "      <td>3.0</td>\n",
       "      <td>6070615.0</td>\n",
       "      <td>40580.0</td>\n",
       "      <td>0.0</td>\n",
       "      <td>30401.0</td>\n",
       "      <td>0.0</td>\n",
       "      <td>2005731.0</td>\n",
       "      <td>1825051.0</td>\n",
       "      <td>7.9</td>\n",
       "      <td>40583.0</td>\n",
       "      <td>86.0</td>\n",
       "    </tr>\n",
       "    <tr>\n",
       "      <th>4</th>\n",
       "      <td>-8156468515495593794</td>\n",
       "      <td>1</td>\n",
       "      <td>138018.05</td>\n",
       "      <td>1</td>\n",
       "      <td>7</td>\n",
       "      <td>14.0</td>\n",
       "      <td>3642369.0</td>\n",
       "      <td>97156.0</td>\n",
       "      <td>81488.0</td>\n",
       "      <td>0.0</td>\n",
       "      <td>160308.0</td>\n",
       "      <td>3642369.0</td>\n",
       "      <td>3314257.0</td>\n",
       "      <td>10.4</td>\n",
       "      <td>78108.0</td>\n",
       "      <td>27.0</td>\n",
       "    </tr>\n",
       "  </tbody>\n",
       "</table>\n",
       "</div>"
      ],
      "text/plain": [
       "             client_id  sale_flg  sale_amount  contacts  feature_1  \\\n",
       "0  7513301859607023584         0          NaN         1          7   \n",
       "1  9157009756404187626         0          NaN         1          3   \n",
       "2 -1893104556496814867         0          NaN         1          5   \n",
       "3  6886062013213911831         0          NaN         1          4   \n",
       "4 -8156468515495593794         1    138018.05         1          7   \n",
       "\n",
       "   client_segment  feature_2  feature_3  feature_4  feature_5  feature_6  \\\n",
       "0            13.0   571533.0    15717.0        0.0        0.0        0.0   \n",
       "1            13.0  3642369.0    94787.0        0.0        0.0    84823.0   \n",
       "2            16.0   352826.0     5500.0        0.0     6822.0        0.0   \n",
       "3             3.0  6070615.0    40580.0        0.0    30401.0        0.0   \n",
       "4            14.0  3642369.0    97156.0    81488.0        0.0   160308.0   \n",
       "\n",
       "   feature_7  feature_8  feature_9  feature_10  region_cd  \n",
       "0   571852.0   472605.0       10.4     12548.0       86.0  \n",
       "1  3642369.0  3314257.0        8.9     77210.0        2.0  \n",
       "2   265893.0   204534.0        8.9      5508.0       52.0  \n",
       "3  2005731.0  1825051.0        7.9     40583.0       86.0  \n",
       "4  3642369.0  3314257.0       10.4     78108.0       27.0  "
      ]
     },
     "execution_count": 4,
     "metadata": {},
     "output_type": "execute_result"
    }
   ],
   "source": [
    "train.head()"
   ]
  },
  {
   "cell_type": "code",
   "execution_count": 5,
   "metadata": {},
   "outputs": [
    {
     "data": {
      "text/html": [
       "<div>\n",
       "<style scoped>\n",
       "    .dataframe tbody tr th:only-of-type {\n",
       "        vertical-align: middle;\n",
       "    }\n",
       "\n",
       "    .dataframe tbody tr th {\n",
       "        vertical-align: top;\n",
       "    }\n",
       "\n",
       "    .dataframe thead th {\n",
       "        text-align: right;\n",
       "    }\n",
       "</style>\n",
       "<table border=\"1\" class=\"dataframe\">\n",
       "  <thead>\n",
       "    <tr style=\"text-align: right;\">\n",
       "      <th></th>\n",
       "      <th>client_id</th>\n",
       "      <th>gender</th>\n",
       "      <th>age</th>\n",
       "      <th>region</th>\n",
       "      <th>city</th>\n",
       "      <th>citizenship</th>\n",
       "      <th>education</th>\n",
       "      <th>job_type</th>\n",
       "    </tr>\n",
       "  </thead>\n",
       "  <tbody>\n",
       "    <tr>\n",
       "      <th>0</th>\n",
       "      <td>7513301859607023584</td>\n",
       "      <td>F</td>\n",
       "      <td>33.0</td>\n",
       "      <td>0</td>\n",
       "      <td>115</td>\n",
       "      <td>RUSSIA</td>\n",
       "      <td>NaN</td>\n",
       "      <td>NaN</td>\n",
       "    </tr>\n",
       "    <tr>\n",
       "      <th>1</th>\n",
       "      <td>9157009756404187626</td>\n",
       "      <td>F</td>\n",
       "      <td>59.0</td>\n",
       "      <td>17</td>\n",
       "      <td>668</td>\n",
       "      <td>RUSSIA</td>\n",
       "      <td>NaN</td>\n",
       "      <td>NaN</td>\n",
       "    </tr>\n",
       "    <tr>\n",
       "      <th>2</th>\n",
       "      <td>-1893104556496814867</td>\n",
       "      <td>M</td>\n",
       "      <td>51.0</td>\n",
       "      <td>28</td>\n",
       "      <td>65</td>\n",
       "      <td>RUSSIA</td>\n",
       "      <td>NaN</td>\n",
       "      <td>NaN</td>\n",
       "    </tr>\n",
       "    <tr>\n",
       "      <th>3</th>\n",
       "      <td>6886062013213911831</td>\n",
       "      <td>F</td>\n",
       "      <td>56.0</td>\n",
       "      <td>0</td>\n",
       "      <td>40</td>\n",
       "      <td>RUSSIA</td>\n",
       "      <td>NaN</td>\n",
       "      <td>NaN</td>\n",
       "    </tr>\n",
       "    <tr>\n",
       "      <th>4</th>\n",
       "      <td>-8156468515495593794</td>\n",
       "      <td>F</td>\n",
       "      <td>34.0</td>\n",
       "      <td>-1</td>\n",
       "      <td>-1</td>\n",
       "      <td>RUSSIA</td>\n",
       "      <td>HIGHER_PROFESSIONAL</td>\n",
       "      <td>NaN</td>\n",
       "    </tr>\n",
       "  </tbody>\n",
       "</table>\n",
       "</div>"
      ],
      "text/plain": [
       "             client_id gender   age  region  city citizenship  \\\n",
       "0  7513301859607023584      F  33.0       0   115      RUSSIA   \n",
       "1  9157009756404187626      F  59.0      17   668      RUSSIA   \n",
       "2 -1893104556496814867      M  51.0      28    65      RUSSIA   \n",
       "3  6886062013213911831      F  56.0       0    40      RUSSIA   \n",
       "4 -8156468515495593794      F  34.0      -1    -1      RUSSIA   \n",
       "\n",
       "             education job_type  \n",
       "0                  NaN      NaN  \n",
       "1                  NaN      NaN  \n",
       "2                  NaN      NaN  \n",
       "3                  NaN      NaN  \n",
       "4  HIGHER_PROFESSIONAL      NaN  "
      ]
     },
     "execution_count": 5,
     "metadata": {},
     "output_type": "execute_result"
    }
   ],
   "source": [
    "clients.head()"
   ]
  },
  {
   "cell_type": "code",
   "execution_count": 6,
   "metadata": {},
   "outputs": [
    {
     "data": {
      "text/html": [
       "<div>\n",
       "<style scoped>\n",
       "    .dataframe tbody tr th:only-of-type {\n",
       "        vertical-align: middle;\n",
       "    }\n",
       "\n",
       "    .dataframe tbody tr th {\n",
       "        vertical-align: top;\n",
       "    }\n",
       "\n",
       "    .dataframe thead th {\n",
       "        text-align: right;\n",
       "    }\n",
       "</style>\n",
       "<table border=\"1\" class=\"dataframe\">\n",
       "  <thead>\n",
       "    <tr style=\"text-align: right;\">\n",
       "      <th></th>\n",
       "      <th>client_id</th>\n",
       "      <th>crncy_cd</th>\n",
       "      <th>eop_bal_sum_rur</th>\n",
       "      <th>min_bal_sum_rur</th>\n",
       "      <th>max_bal_sum_rur</th>\n",
       "      <th>avg_bal_sum_rur</th>\n",
       "      <th>month_end_dt</th>\n",
       "      <th>prod_cat_name</th>\n",
       "      <th>prod_group_name</th>\n",
       "    </tr>\n",
       "  </thead>\n",
       "  <tbody>\n",
       "    <tr>\n",
       "      <th>0</th>\n",
       "      <td>7513301859607023584</td>\n",
       "      <td>810.0</td>\n",
       "      <td>0.0</td>\n",
       "      <td>0.0</td>\n",
       "      <td>0.0</td>\n",
       "      <td>0.0</td>\n",
       "      <td>2018-09-30</td>\n",
       "      <td>CURRENT ACCOUNTS</td>\n",
       "      <td>Cash on demand</td>\n",
       "    </tr>\n",
       "    <tr>\n",
       "      <th>1</th>\n",
       "      <td>7513301859607023584</td>\n",
       "      <td>810.0</td>\n",
       "      <td>0.0</td>\n",
       "      <td>0.0</td>\n",
       "      <td>0.0</td>\n",
       "      <td>0.0</td>\n",
       "      <td>2018-09-30</td>\n",
       "      <td>CURRENT ACCOUNTS</td>\n",
       "      <td>Cash on demand</td>\n",
       "    </tr>\n",
       "    <tr>\n",
       "      <th>2</th>\n",
       "      <td>7513301859607023584</td>\n",
       "      <td>810.0</td>\n",
       "      <td>0.0</td>\n",
       "      <td>0.0</td>\n",
       "      <td>0.0</td>\n",
       "      <td>0.0</td>\n",
       "      <td>2018-09-30</td>\n",
       "      <td>CURRENT ACCOUNTS</td>\n",
       "      <td>Cash on demand</td>\n",
       "    </tr>\n",
       "    <tr>\n",
       "      <th>3</th>\n",
       "      <td>7513301859607023584</td>\n",
       "      <td>810.0</td>\n",
       "      <td>0.0</td>\n",
       "      <td>0.0</td>\n",
       "      <td>0.0</td>\n",
       "      <td>0.0</td>\n",
       "      <td>2018-09-30</td>\n",
       "      <td>CURRENT ACCOUNTS</td>\n",
       "      <td>Cash on demand</td>\n",
       "    </tr>\n",
       "    <tr>\n",
       "      <th>4</th>\n",
       "      <td>7513301859607023584</td>\n",
       "      <td>810.0</td>\n",
       "      <td>0.0</td>\n",
       "      <td>0.0</td>\n",
       "      <td>0.0</td>\n",
       "      <td>0.0</td>\n",
       "      <td>2018-09-30</td>\n",
       "      <td>CURRENT ACCOUNTS</td>\n",
       "      <td>Cash on demand</td>\n",
       "    </tr>\n",
       "  </tbody>\n",
       "</table>\n",
       "</div>"
      ],
      "text/plain": [
       "             client_id  crncy_cd  eop_bal_sum_rur  min_bal_sum_rur  \\\n",
       "0  7513301859607023584     810.0              0.0              0.0   \n",
       "1  7513301859607023584     810.0              0.0              0.0   \n",
       "2  7513301859607023584     810.0              0.0              0.0   \n",
       "3  7513301859607023584     810.0              0.0              0.0   \n",
       "4  7513301859607023584     810.0              0.0              0.0   \n",
       "\n",
       "   max_bal_sum_rur  avg_bal_sum_rur month_end_dt     prod_cat_name  \\\n",
       "0              0.0              0.0   2018-09-30  CURRENT ACCOUNTS   \n",
       "1              0.0              0.0   2018-09-30  CURRENT ACCOUNTS   \n",
       "2              0.0              0.0   2018-09-30  CURRENT ACCOUNTS   \n",
       "3              0.0              0.0   2018-09-30  CURRENT ACCOUNTS   \n",
       "4              0.0              0.0   2018-09-30  CURRENT ACCOUNTS   \n",
       "\n",
       "  prod_group_name  \n",
       "0  Cash on demand  \n",
       "1  Cash on demand  \n",
       "2  Cash on demand  \n",
       "3  Cash on demand  \n",
       "4  Cash on demand  "
      ]
     },
     "execution_count": 6,
     "metadata": {},
     "output_type": "execute_result"
    }
   ],
   "source": [
    "balance.head()"
   ]
  },
  {
   "cell_type": "code",
   "execution_count": 7,
   "metadata": {},
   "outputs": [],
   "source": [
    "# в доп таблицах только данные текущих актуальных клиентов <- реализован\n",
    "# в доп таблицах данные для всех клиентов\n",
    "# в доп таблицах данные только для новых клиентов "
   ]
  },
  {
   "cell_type": "code",
   "execution_count": 12,
   "metadata": {},
   "outputs": [
    {
     "name": "stdout",
     "output_type": "stream",
     "text": [
      "[21:51:59] Feats was rejected during automatic roles guess: []\n"
     ]
    },
    {
     "name": "stderr",
     "output_type": "stream",
     "text": [
      "I0906 21:51:59.951397 140311170799424 base.py:632] Feats was rejected during automatic roles guess: []\n"
     ]
    },
    {
     "name": "stdout",
     "output_type": "stream",
     "text": [
      "[21:51:59] Layer 1 train process start. Time left 9999999999.66 secs\n"
     ]
    },
    {
     "name": "stderr",
     "output_type": "stream",
     "text": [
      "I0906 21:51:59.957320 140311170799424 base.py:220] Layer 1 train process start. Time left 9999999999.66 secs\n"
     ]
    },
    {
     "name": "stdout",
     "output_type": "stream",
     "text": [
      "[21:51:59] Start fitting Lvl_0_Pipe_0_Mod_0_LightGBM ...\n"
     ]
    },
    {
     "name": "stderr",
     "output_type": "stream",
     "text": [
      "I0906 21:51:59.979908 140311170799424 base.py:251] Start fitting Lvl_0_Pipe_0_Mod_0_LightGBM ...\n",
      "I0906 21:51:59.983915 140311170799424 base.py:252] Training params: {'task': 'train', 'learning_rate': 0.05, 'num_leaves': 128, 'feature_fraction': 0.7, 'bagging_fraction': 0.7, 'bagging_freq': 1, 'max_depth': -1, 'verbosity': -1, 'reg_alpha': 1, 'reg_lambda': 0.0, 'min_split_gain': 0.0, 'zero_as_missing': False, 'num_threads': 4, 'max_bin': 255, 'min_data_in_bin': 3, 'num_trees': 3000, 'early_stopping_rounds': 100, 'random_state': 42}\n"
     ]
    },
    {
     "name": "stdout",
     "output_type": "stream",
     "text": [
      "[21:51:59] ===== Start working with fold 0 for Lvl_0_Pipe_0_Mod_0_LightGBM =====\n"
     ]
    },
    {
     "name": "stderr",
     "output_type": "stream",
     "text": [
      "I0906 21:51:59.991636 140311170799424 base.py:281] ===== Start working with fold 0 for Lvl_0_Pipe_0_Mod_0_LightGBM =====\n",
      "I0906 21:52:00.028686 140311170799424 logging.py:81] Training until validation scores don't improve for 100 rounds\n",
      "I0906 21:52:00.537727 140311170799424 logging.py:81] [100]\tvalid's binary_logloss: 0.354864\n",
      "I0906 21:52:00.874276 140311170799424 logging.py:81] Early stopping, best iteration is:\n",
      "[63]\tvalid's binary_logloss: 0.351069\n"
     ]
    },
    {
     "name": "stdout",
     "output_type": "stream",
     "text": [
      "[21:52:00] ===== Start working with fold 1 for Lvl_0_Pipe_0_Mod_0_LightGBM =====\n"
     ]
    },
    {
     "name": "stderr",
     "output_type": "stream",
     "text": [
      "I0906 21:52:00.915845 140311170799424 base.py:281] ===== Start working with fold 1 for Lvl_0_Pipe_0_Mod_0_LightGBM =====\n",
      "I0906 21:52:00.953680 140311170799424 logging.py:81] Training until validation scores don't improve for 100 rounds\n",
      "I0906 21:52:01.454555 140311170799424 logging.py:81] [100]\tvalid's binary_logloss: 0.35696\n",
      "I0906 21:52:01.701425 140311170799424 logging.py:81] Early stopping, best iteration is:\n",
      "[48]\tvalid's binary_logloss: 0.352007\n"
     ]
    },
    {
     "name": "stdout",
     "output_type": "stream",
     "text": [
      "[21:52:01] ===== Start working with fold 2 for Lvl_0_Pipe_0_Mod_0_LightGBM =====\n"
     ]
    },
    {
     "name": "stderr",
     "output_type": "stream",
     "text": [
      "I0906 21:52:01.729965 140311170799424 base.py:281] ===== Start working with fold 2 for Lvl_0_Pipe_0_Mod_0_LightGBM =====\n",
      "I0906 21:52:01.768956 140311170799424 logging.py:81] Training until validation scores don't improve for 100 rounds\n",
      "I0906 21:52:02.262670 140311170799424 logging.py:81] [100]\tvalid's binary_logloss: 0.349675\n",
      "I0906 21:52:02.606789 140311170799424 logging.py:81] Early stopping, best iteration is:\n",
      "[67]\tvalid's binary_logloss: 0.346336\n"
     ]
    },
    {
     "name": "stdout",
     "output_type": "stream",
     "text": [
      "[21:52:02] Fitting Lvl_0_Pipe_0_Mod_0_LightGBM finished. score = -0.34980425030874734\n"
     ]
    },
    {
     "name": "stderr",
     "output_type": "stream",
     "text": [
      "I0906 21:52:02.640621 140311170799424 base.py:308] Fitting Lvl_0_Pipe_0_Mod_0_LightGBM finished. score = -0.34980425030874734\n"
     ]
    },
    {
     "name": "stdout",
     "output_type": "stream",
     "text": [
      "[21:52:02] Lvl_0_Pipe_0_Mod_0_LightGBM fitting and predicting completed\n"
     ]
    },
    {
     "name": "stderr",
     "output_type": "stream",
     "text": [
      "I0906 21:52:02.647080 140311170799424 base.py:313] Lvl_0_Pipe_0_Mod_0_LightGBM fitting and predicting completed\n"
     ]
    },
    {
     "name": "stdout",
     "output_type": "stream",
     "text": [
      "[21:52:02] Time left 9999999996.97 secs\n",
      "\n"
     ]
    },
    {
     "name": "stderr",
     "output_type": "stream",
     "text": [
      "I0906 21:52:02.651105 140311170799424 base.py:229] Time left 9999999996.97 secs\n",
      "\n"
     ]
    },
    {
     "name": "stdout",
     "output_type": "stream",
     "text": [
      "[21:52:02] Layer 1 training completed.\n",
      "\n"
     ]
    },
    {
     "name": "stderr",
     "output_type": "stream",
     "text": [
      "I0906 21:52:02.652238 140311170799424 base.py:248] Layer 1 training completed.\n",
      "\n"
     ]
    },
    {
     "name": "stdout",
     "output_type": "stream",
     "text": [
      "=============\n",
      "log-loss: 0.34980425030874734, roc_auc: 0.8192736336435955\n"
     ]
    }
   ],
   "source": [
    "seq_params = {'clients': {'case': 'ids',\n",
    "                          'params': {},\n",
    "                          'scheme': {'to': 'plain', 'from_id': 'client_id', 'to_id': 'client_id'}\n",
    "                         }\n",
    "             }\n",
    "\n",
    "X_train = {'plain':train , 'seq': None}\n",
    "task = Task('binary', metric='logloss')\n",
    "\n",
    "roles={'target': 'sale_flg', 'drop': ['sale_amount', 'contacts']}\n",
    "\n",
    "reader = DictToNumpySeqReader(task=task, cv=3, seq_params=seq_params)\n",
    "\n",
    "feats = LGBMultiSeqSimpleFeatures()\n",
    "model = BoostLGBM()\n",
    "pipeline_lvl1 = MLPipeline([model], pre_selection=None, features_pipeline=feats, post_selection=None)\n",
    "\n",
    "automl = AutoML(reader, [\n",
    "    [pipeline_lvl1],\n",
    "], skip_conn=False)\n",
    "\n",
    "oof_pred = automl.fit_predict(X_train, roles=roles, verbose=3)\n",
    "\n",
    "metric_l = log_loss(train[roles['target']], oof_pred.data[:, 0])\n",
    "metric_a = roc_auc_score(train[roles['target']], oof_pred.data[:, 0])\n",
    "\n",
    "print('=============')\n",
    "print(f'log-loss: {metric_l}, roc_auc: {metric_a}')\n",
    "\n",
    "_pred = automl.predict(X_train)\n"
   ]
  },
  {
   "cell_type": "code",
   "execution_count": 13,
   "metadata": {},
   "outputs": [
    {
     "name": "stdout",
     "output_type": "stream",
     "text": [
      "[21:52:23] Feats was rejected during automatic roles guess: []\n"
     ]
    },
    {
     "name": "stderr",
     "output_type": "stream",
     "text": [
      "I0906 21:52:23.581342 140311170799424 base.py:632] Feats was rejected during automatic roles guess: []\n"
     ]
    },
    {
     "name": "stdout",
     "output_type": "stream",
     "text": [
      "[21:52:23] Layer 1 train process start. Time left 9999999997.07 secs\n"
     ]
    },
    {
     "name": "stderr",
     "output_type": "stream",
     "text": [
      "I0906 21:52:23.587181 140311170799424 base.py:220] Layer 1 train process start. Time left 9999999997.07 secs\n"
     ]
    },
    {
     "name": "stdout",
     "output_type": "stream",
     "text": [
      "[21:52:34] Start fitting Lvl_0_Pipe_0_Mod_0_LightGBM ...\n"
     ]
    },
    {
     "name": "stderr",
     "output_type": "stream",
     "text": [
      "I0906 21:52:34.226115 140311170799424 base.py:251] Start fitting Lvl_0_Pipe_0_Mod_0_LightGBM ...\n",
      "I0906 21:52:34.230526 140311170799424 base.py:252] Training params: {'task': 'train', 'learning_rate': 0.05, 'num_leaves': 128, 'feature_fraction': 0.7, 'bagging_fraction': 0.7, 'bagging_freq': 1, 'max_depth': -1, 'verbosity': -1, 'reg_alpha': 1, 'reg_lambda': 0.0, 'min_split_gain': 0.0, 'zero_as_missing': False, 'num_threads': 4, 'max_bin': 255, 'min_data_in_bin': 3, 'num_trees': 3000, 'early_stopping_rounds': 100, 'random_state': 42}\n"
     ]
    },
    {
     "name": "stdout",
     "output_type": "stream",
     "text": [
      "[21:52:34] ===== Start working with fold 0 for Lvl_0_Pipe_0_Mod_0_LightGBM =====\n"
     ]
    },
    {
     "name": "stderr",
     "output_type": "stream",
     "text": [
      "I0906 21:52:34.238945 140311170799424 base.py:281] ===== Start working with fold 0 for Lvl_0_Pipe_0_Mod_0_LightGBM =====\n",
      "I0906 21:52:34.272855 140311170799424 logging.py:81] Training until validation scores don't improve for 100 rounds\n",
      "I0906 21:52:34.792385 140311170799424 logging.py:81] [100]\tvalid's binary_logloss: 0.351012\n",
      "I0906 21:52:35.099642 140311170799424 logging.py:81] Early stopping, best iteration is:\n",
      "[57]\tvalid's binary_logloss: 0.347357\n"
     ]
    },
    {
     "name": "stdout",
     "output_type": "stream",
     "text": [
      "[21:52:35] ===== Start working with fold 1 for Lvl_0_Pipe_0_Mod_0_LightGBM =====\n"
     ]
    },
    {
     "name": "stderr",
     "output_type": "stream",
     "text": [
      "I0906 21:52:35.134965 140311170799424 base.py:281] ===== Start working with fold 1 for Lvl_0_Pipe_0_Mod_0_LightGBM =====\n",
      "I0906 21:52:35.170692 140311170799424 logging.py:81] Training until validation scores don't improve for 100 rounds\n",
      "I0906 21:52:35.720820 140311170799424 logging.py:81] [100]\tvalid's binary_logloss: 0.354635\n",
      "I0906 21:52:35.987640 140311170799424 logging.py:81] Early stopping, best iteration is:\n",
      "[49]\tvalid's binary_logloss: 0.349862\n"
     ]
    },
    {
     "name": "stdout",
     "output_type": "stream",
     "text": [
      "[21:52:36] ===== Start working with fold 2 for Lvl_0_Pipe_0_Mod_0_LightGBM =====\n"
     ]
    },
    {
     "name": "stderr",
     "output_type": "stream",
     "text": [
      "I0906 21:52:36.018109 140311170799424 base.py:281] ===== Start working with fold 2 for Lvl_0_Pipe_0_Mod_0_LightGBM =====\n",
      "I0906 21:52:36.055078 140311170799424 logging.py:81] Training until validation scores don't improve for 100 rounds\n",
      "I0906 21:52:36.573371 140311170799424 logging.py:81] [100]\tvalid's binary_logloss: 0.345905\n",
      "I0906 21:52:36.881943 140311170799424 logging.py:81] Early stopping, best iteration is:\n",
      "[58]\tvalid's binary_logloss: 0.34341\n"
     ]
    },
    {
     "name": "stdout",
     "output_type": "stream",
     "text": [
      "[21:52:36] Fitting Lvl_0_Pipe_0_Mod_0_LightGBM finished. score = -0.3468762868274541\n"
     ]
    },
    {
     "name": "stderr",
     "output_type": "stream",
     "text": [
      "I0906 21:52:36.912437 140311170799424 base.py:308] Fitting Lvl_0_Pipe_0_Mod_0_LightGBM finished. score = -0.3468762868274541\n"
     ]
    },
    {
     "name": "stdout",
     "output_type": "stream",
     "text": [
      "[21:52:36] Lvl_0_Pipe_0_Mod_0_LightGBM fitting and predicting completed\n"
     ]
    },
    {
     "name": "stderr",
     "output_type": "stream",
     "text": [
      "I0906 21:52:36.920076 140311170799424 base.py:313] Lvl_0_Pipe_0_Mod_0_LightGBM fitting and predicting completed\n"
     ]
    },
    {
     "name": "stdout",
     "output_type": "stream",
     "text": [
      "[21:52:36] Time left 9999999983.73 secs\n",
      "\n"
     ]
    },
    {
     "name": "stderr",
     "output_type": "stream",
     "text": [
      "I0906 21:52:36.924563 140311170799424 base.py:229] Time left 9999999983.73 secs\n",
      "\n"
     ]
    },
    {
     "name": "stdout",
     "output_type": "stream",
     "text": [
      "[21:52:36] Layer 1 training completed.\n",
      "\n"
     ]
    },
    {
     "name": "stderr",
     "output_type": "stream",
     "text": [
      "I0906 21:52:36.926451 140311170799424 base.py:248] Layer 1 training completed.\n",
      "\n"
     ]
    },
    {
     "name": "stdout",
     "output_type": "stream",
     "text": [
      "=============\n",
      "log-loss: 0.3468762868274541, roc_auc: 0.8231983444548147\n",
      "CPU times: user 33.1 s, sys: 1.85 s, total: 34.9 s\n",
      "Wall time: 27.1 s\n"
     ]
    }
   ],
   "source": [
    "%%time\n",
    "seq_params = {'trxn': {'case': 'ids',\n",
    "                       'params': {},\n",
    "                       'scheme': {'to': 'plain', 'from_id': 'client_id', 'to_id': 'client_id'}\n",
    "                       }\n",
    "             }\n",
    "\n",
    "X_train = {'plain':train , 'seq': {'trxn': trxn}}\n",
    "\n",
    "task = Task('binary', metric='logloss')\n",
    "\n",
    "roles={'target': 'sale_flg', 'drop': ['sale_amount', 'contacts']}\n",
    "\n",
    "reader = DictToNumpySeqReader(task=task, cv=3, seq_params=seq_params)\n",
    "\n",
    "feats = LGBMultiSeqSimpleFeatures()\n",
    "model = BoostLGBM()\n",
    "pipeline_lvl1 = MLPipeline([model], pre_selection=None, features_pipeline=feats, post_selection=None)\n",
    "\n",
    "automl = AutoML(reader, [\n",
    "    [pipeline_lvl1],\n",
    "], skip_conn=False)\n",
    "\n",
    "oof_pred = automl.fit_predict(X_train, roles=roles, verbose=3)\n",
    "\n",
    "metric_l = log_loss(train[roles['target']], oof_pred.data[:, 0])\n",
    "metric_a = roc_auc_score(train[roles['target']], oof_pred.data[:, 0])\n",
    "\n",
    "print('=============')\n",
    "print(f'log-loss: {metric_l}, roc_auc: {metric_a}')\n",
    "\n",
    "_pred = automl.predict(X_train)\n"
   ]
  },
  {
   "cell_type": "code",
   "execution_count": 22,
   "metadata": {},
   "outputs": [
    {
     "name": "stdout",
     "output_type": "stream",
     "text": [
      "[21:59:16] Feats was rejected during automatic roles guess: []\n"
     ]
    },
    {
     "name": "stderr",
     "output_type": "stream",
     "text": [
      "I0906 21:59:16.934970 140311170799424 base.py:632] Feats was rejected during automatic roles guess: []\n"
     ]
    },
    {
     "name": "stdout",
     "output_type": "stream",
     "text": [
      "[21:59:16] Layer 1 train process start. Time left 9999999998.96 secs\n"
     ]
    },
    {
     "name": "stderr",
     "output_type": "stream",
     "text": [
      "I0906 21:59:16.941586 140311170799424 base.py:220] Layer 1 train process start. Time left 9999999998.96 secs\n"
     ]
    },
    {
     "name": "stdout",
     "output_type": "stream",
     "text": [
      "[21:59:17] Start fitting Lvl_0_Pipe_0_Mod_0_LightGBM ...\n"
     ]
    },
    {
     "name": "stderr",
     "output_type": "stream",
     "text": [
      "I0906 21:59:17.910078 140311170799424 base.py:251] Start fitting Lvl_0_Pipe_0_Mod_0_LightGBM ...\n",
      "I0906 21:59:17.914594 140311170799424 base.py:252] Training params: {'task': 'train', 'learning_rate': 0.05, 'num_leaves': 128, 'feature_fraction': 0.7, 'bagging_fraction': 0.7, 'bagging_freq': 1, 'max_depth': -1, 'verbosity': -1, 'reg_alpha': 1, 'reg_lambda': 0.0, 'min_split_gain': 0.0, 'zero_as_missing': False, 'num_threads': 4, 'max_bin': 255, 'min_data_in_bin': 3, 'num_trees': 3000, 'early_stopping_rounds': 100, 'random_state': 42}\n"
     ]
    },
    {
     "name": "stdout",
     "output_type": "stream",
     "text": [
      "[21:59:17] ===== Start working with fold 0 for Lvl_0_Pipe_0_Mod_0_LightGBM =====\n"
     ]
    },
    {
     "name": "stderr",
     "output_type": "stream",
     "text": [
      "I0906 21:59:17.923766 140311170799424 base.py:281] ===== Start working with fold 0 for Lvl_0_Pipe_0_Mod_0_LightGBM =====\n",
      "I0906 21:59:17.965710 140311170799424 logging.py:81] Training until validation scores don't improve for 100 rounds\n",
      "I0906 21:59:18.432287 140311170799424 logging.py:81] [100]\tvalid's binary_logloss: 0.248572\n",
      "I0906 21:59:18.926421 140311170799424 logging.py:81] [200]\tvalid's binary_logloss: 0.25536\n",
      "I0906 21:59:19.019520 140311170799424 logging.py:81] Early stopping, best iteration is:\n",
      "[117]\tvalid's binary_logloss: 0.248514\n"
     ]
    },
    {
     "name": "stdout",
     "output_type": "stream",
     "text": [
      "[21:59:19] ===== Start working with fold 1 for Lvl_0_Pipe_0_Mod_0_LightGBM =====\n"
     ]
    },
    {
     "name": "stderr",
     "output_type": "stream",
     "text": [
      "I0906 21:59:19.085991 140311170799424 base.py:281] ===== Start working with fold 1 for Lvl_0_Pipe_0_Mod_0_LightGBM =====\n",
      "I0906 21:59:19.129414 140311170799424 logging.py:81] Training until validation scores don't improve for 100 rounds\n",
      "I0906 21:59:19.599251 140311170799424 logging.py:81] [100]\tvalid's binary_logloss: 0.250303\n",
      "I0906 21:59:20.119967 140311170799424 logging.py:81] [200]\tvalid's binary_logloss: 0.257766\n",
      "I0906 21:59:20.121459 140311170799424 logging.py:81] Early stopping, best iteration is:\n",
      "[100]\tvalid's binary_logloss: 0.250303\n"
     ]
    },
    {
     "name": "stdout",
     "output_type": "stream",
     "text": [
      "[21:59:20] ===== Start working with fold 2 for Lvl_0_Pipe_0_Mod_0_LightGBM =====\n"
     ]
    },
    {
     "name": "stderr",
     "output_type": "stream",
     "text": [
      "I0906 21:59:20.187771 140311170799424 base.py:281] ===== Start working with fold 2 for Lvl_0_Pipe_0_Mod_0_LightGBM =====\n",
      "I0906 21:59:20.232305 140311170799424 logging.py:81] Training until validation scores don't improve for 100 rounds\n",
      "I0906 21:59:20.702157 140311170799424 logging.py:81] [100]\tvalid's binary_logloss: 0.241127\n",
      "I0906 21:59:21.218022 140311170799424 logging.py:81] [200]\tvalid's binary_logloss: 0.24541\n",
      "I0906 21:59:21.262848 140311170799424 logging.py:81] Early stopping, best iteration is:\n",
      "[108]\tvalid's binary_logloss: 0.240213\n"
     ]
    },
    {
     "name": "stdout",
     "output_type": "stream",
     "text": [
      "[21:59:21] Fitting Lvl_0_Pipe_0_Mod_0_LightGBM finished. score = -0.24634341369370094\n"
     ]
    },
    {
     "name": "stderr",
     "output_type": "stream",
     "text": [
      "I0906 21:59:21.321296 140311170799424 base.py:308] Fitting Lvl_0_Pipe_0_Mod_0_LightGBM finished. score = -0.24634341369370094\n"
     ]
    },
    {
     "name": "stdout",
     "output_type": "stream",
     "text": [
      "[21:59:21] Lvl_0_Pipe_0_Mod_0_LightGBM fitting and predicting completed\n"
     ]
    },
    {
     "name": "stderr",
     "output_type": "stream",
     "text": [
      "I0906 21:59:21.330026 140311170799424 base.py:313] Lvl_0_Pipe_0_Mod_0_LightGBM fitting and predicting completed\n"
     ]
    },
    {
     "name": "stdout",
     "output_type": "stream",
     "text": [
      "[21:59:21] Time left 9999999994.57 secs\n",
      "\n"
     ]
    },
    {
     "name": "stderr",
     "output_type": "stream",
     "text": [
      "I0906 21:59:21.334567 140311170799424 base.py:229] Time left 9999999994.57 secs\n",
      "\n"
     ]
    },
    {
     "name": "stdout",
     "output_type": "stream",
     "text": [
      "[21:59:21] Layer 1 training completed.\n",
      "\n"
     ]
    },
    {
     "name": "stderr",
     "output_type": "stream",
     "text": [
      "I0906 21:59:21.336344 140311170799424 base.py:248] Layer 1 training completed.\n",
      "\n"
     ]
    },
    {
     "name": "stdout",
     "output_type": "stream",
     "text": [
      "=============\n",
      "log-loss: 0.24634341369370094, roc_auc: 0.9212829858762476\n",
      "CPU times: user 17 s, sys: 273 ms, total: 17.3 s\n",
      "Wall time: 7.19 s\n"
     ]
    }
   ],
   "source": [
    "%%time\n",
    "seq_params = {'clients': {'case': 'ids',\n",
    "                       'params': {},\n",
    "                       'scheme': {'to': 'plain', 'from_id': 'client_id', 'to_id': 'client_id', 'type': 'lookup'}\n",
    "                         }\n",
    "             }\n",
    "\n",
    "X_train = {'plain':train , 'seq': {'clients': clients}}\n",
    "task = Task('binary', metric='logloss')\n",
    "\n",
    "roles={'target': 'sale_flg', 'drop': ['sale_amount', 'contacts']}\n",
    "\n",
    "reader = DictToNumpySeqReader(task=task, cv=3, seq_params=seq_params)\n",
    "\n",
    "feats = LGBMultiSeqSimpleFeatures()\n",
    "model = BoostLGBM()\n",
    "pipeline_lvl1 = MLPipeline([model], pre_selection=None, features_pipeline=feats, post_selection=None)\n",
    "\n",
    "automl = AutoML(reader, [\n",
    "    [pipeline_lvl1],\n",
    "], skip_conn=False)\n",
    "\n",
    "oof_pred = automl.fit_predict(X_train, roles=roles, verbose=3)\n",
    "\n",
    "metric_l = log_loss(train[roles['target']], oof_pred.data[:, 0])\n",
    "metric_a = roc_auc_score(train[roles['target']], oof_pred.data[:, 0])\n",
    "\n",
    "print('=============')\n",
    "print(f'log-loss: {metric_l}, roc_auc: {metric_a}')\n",
    "\n",
    "_pred = automl.predict(X_train)\n"
   ]
  },
  {
   "cell_type": "code",
   "execution_count": 24,
   "metadata": {},
   "outputs": [
    {
     "name": "stdout",
     "output_type": "stream",
     "text": [
      "[22:01:21] Feats was rejected during automatic roles guess: []\n"
     ]
    },
    {
     "name": "stderr",
     "output_type": "stream",
     "text": [
      "I0906 22:01:21.722459 140311170799424 base.py:632] Feats was rejected during automatic roles guess: []\n"
     ]
    },
    {
     "name": "stdout",
     "output_type": "stream",
     "text": [
      "[22:01:21] Layer 1 train process start. Time left 9999999989.95 secs\n"
     ]
    },
    {
     "name": "stderr",
     "output_type": "stream",
     "text": [
      "I0906 22:01:21.727734 140311170799424 base.py:220] Layer 1 train process start. Time left 9999999989.95 secs\n"
     ]
    },
    {
     "name": "stdout",
     "output_type": "stream",
     "text": [
      "[22:01:44] Start fitting Lvl_0_Pipe_0_Mod_0_LightGBM ...\n"
     ]
    },
    {
     "name": "stderr",
     "output_type": "stream",
     "text": [
      "I0906 22:01:44.859951 140311170799424 base.py:251] Start fitting Lvl_0_Pipe_0_Mod_0_LightGBM ...\n",
      "I0906 22:01:44.863497 140311170799424 base.py:252] Training params: {'task': 'train', 'learning_rate': 0.05, 'num_leaves': 128, 'feature_fraction': 0.7, 'bagging_fraction': 0.7, 'bagging_freq': 1, 'max_depth': -1, 'verbosity': -1, 'reg_alpha': 1, 'reg_lambda': 0.0, 'min_split_gain': 0.0, 'zero_as_missing': False, 'num_threads': 4, 'max_bin': 255, 'min_data_in_bin': 3, 'num_trees': 3000, 'early_stopping_rounds': 100, 'random_state': 42}\n"
     ]
    },
    {
     "name": "stdout",
     "output_type": "stream",
     "text": [
      "[22:01:44] ===== Start working with fold 0 for Lvl_0_Pipe_0_Mod_0_LightGBM =====\n"
     ]
    },
    {
     "name": "stderr",
     "output_type": "stream",
     "text": [
      "I0906 22:01:44.874240 140311170799424 base.py:281] ===== Start working with fold 0 for Lvl_0_Pipe_0_Mod_0_LightGBM =====\n",
      "I0906 22:01:44.921436 140311170799424 logging.py:81] Training until validation scores don't improve for 100 rounds\n",
      "I0906 22:01:45.429170 140311170799424 logging.py:81] [100]\tvalid's binary_logloss: 0.22936\n",
      "I0906 22:01:45.973415 140311170799424 logging.py:81] [200]\tvalid's binary_logloss: 0.23542\n",
      "I0906 22:01:45.992869 140311170799424 logging.py:81] Early stopping, best iteration is:\n",
      "[103]\tvalid's binary_logloss: 0.228787\n"
     ]
    },
    {
     "name": "stdout",
     "output_type": "stream",
     "text": [
      "[22:01:46] ===== Start working with fold 1 for Lvl_0_Pipe_0_Mod_0_LightGBM =====\n"
     ]
    },
    {
     "name": "stderr",
     "output_type": "stream",
     "text": [
      "I0906 22:01:46.056428 140311170799424 base.py:281] ===== Start working with fold 1 for Lvl_0_Pipe_0_Mod_0_LightGBM =====\n",
      "I0906 22:01:46.105308 140311170799424 logging.py:81] Training until validation scores don't improve for 100 rounds\n",
      "I0906 22:01:46.592672 140311170799424 logging.py:81] [100]\tvalid's binary_logloss: 0.231334\n",
      "I0906 22:01:47.139551 140311170799424 logging.py:81] [200]\tvalid's binary_logloss: 0.235234\n",
      "I0906 22:01:47.277697 140311170799424 logging.py:81] Early stopping, best iteration is:\n",
      "[124]\tvalid's binary_logloss: 0.231099\n"
     ]
    },
    {
     "name": "stdout",
     "output_type": "stream",
     "text": [
      "[22:01:47] ===== Start working with fold 2 for Lvl_0_Pipe_0_Mod_0_LightGBM =====\n"
     ]
    },
    {
     "name": "stderr",
     "output_type": "stream",
     "text": [
      "I0906 22:01:47.355080 140311170799424 base.py:281] ===== Start working with fold 2 for Lvl_0_Pipe_0_Mod_0_LightGBM =====\n",
      "I0906 22:01:47.403544 140311170799424 logging.py:81] Training until validation scores don't improve for 100 rounds\n",
      "I0906 22:01:47.905900 140311170799424 logging.py:81] [100]\tvalid's binary_logloss: 0.218133\n",
      "I0906 22:01:48.456825 140311170799424 logging.py:81] [200]\tvalid's binary_logloss: 0.222303\n",
      "I0906 22:01:48.613734 140311170799424 logging.py:81] Early stopping, best iteration is:\n",
      "[127]\tvalid's binary_logloss: 0.217036\n"
     ]
    },
    {
     "name": "stdout",
     "output_type": "stream",
     "text": [
      "[22:01:48] Fitting Lvl_0_Pipe_0_Mod_0_LightGBM finished. score = -0.2256407674203354\n"
     ]
    },
    {
     "name": "stderr",
     "output_type": "stream",
     "text": [
      "I0906 22:01:48.693473 140311170799424 base.py:308] Fitting Lvl_0_Pipe_0_Mod_0_LightGBM finished. score = -0.2256407674203354\n"
     ]
    },
    {
     "name": "stdout",
     "output_type": "stream",
     "text": [
      "[22:01:48] Lvl_0_Pipe_0_Mod_0_LightGBM fitting and predicting completed\n"
     ]
    },
    {
     "name": "stderr",
     "output_type": "stream",
     "text": [
      "I0906 22:01:48.700217 140311170799424 base.py:313] Lvl_0_Pipe_0_Mod_0_LightGBM fitting and predicting completed\n"
     ]
    },
    {
     "name": "stdout",
     "output_type": "stream",
     "text": [
      "[22:01:48] Time left 9999999962.97 secs\n",
      "\n"
     ]
    },
    {
     "name": "stderr",
     "output_type": "stream",
     "text": [
      "I0906 22:01:48.704482 140311170799424 base.py:229] Time left 9999999962.97 secs\n",
      "\n"
     ]
    },
    {
     "name": "stdout",
     "output_type": "stream",
     "text": [
      "[22:01:48] Layer 1 training completed.\n",
      "\n"
     ]
    },
    {
     "name": "stderr",
     "output_type": "stream",
     "text": [
      "I0906 22:01:48.705967 140311170799424 base.py:248] Layer 1 training completed.\n",
      "\n"
     ]
    },
    {
     "name": "stdout",
     "output_type": "stream",
     "text": [
      "=============\n",
      "log-loss: 0.2256407674203354, roc_auc: 0.9368633017766725\n",
      "CPU times: user 1min 9s, sys: 2.8 s, total: 1min 12s\n",
      "Wall time: 1min 3s\n"
     ]
    }
   ],
   "source": [
    "%%time\n",
    "seq_params = {'balance': {'case': 'ids',\n",
    "                       'params': {},\n",
    "                       'scheme': {'to': 'plain', 'from_id': 'client_id', 'to_id': 'client_id'}\n",
    "                       }, \n",
    "              'payments': {'case': 'ids',\n",
    "                       'params': {},\n",
    "                       'scheme': {'to': 'plain', 'from_id': 'client_id', 'to_id': 'client_id'}\n",
    "                       }, \n",
    "              'appl': {'case': 'ids',\n",
    "                       'params': {},\n",
    "                       'scheme': {'to': 'plain', 'from_id': 'client_id', 'to_id': 'client_id'}\n",
    "                       },\n",
    "              'com': {'case': 'ids',\n",
    "                       'params': {},\n",
    "                       'scheme': {'to': 'plain', 'from_id': 'client_id', 'to_id': 'client_id'}\n",
    "                       },\n",
    "              'trxn': {'case': 'ids',\n",
    "                       'params': {},\n",
    "                       'scheme': {'to': 'plain', 'from_id': 'client_id', 'to_id': 'client_id'}\n",
    "                       },\n",
    "              'aum': {'case': 'ids',\n",
    "                       'params': {},\n",
    "                       'scheme': {'to': 'plain', 'from_id': 'client_id', 'to_id': 'client_id'}\n",
    "                       },\n",
    "              'deals': {'case': 'ids',\n",
    "                       'params': {},\n",
    "                       'scheme': {'to': 'plain', 'from_id': 'client_id', 'to_id': 'client_id'}\n",
    "                       },\n",
    "              'clients': {'case': 'ids',\n",
    "                       'params': {},\n",
    "                       'scheme': {'to': 'plain', 'from_id': 'client_id', 'to_id': 'client_id', 'type': 'lookup'}\n",
    "                       }\n",
    "             }\n",
    "X_train = {'plain':train ,\n",
    "           'seq': {'balance': balance,\n",
    "                   'payments': payments,\n",
    "                   'appl': appl,\n",
    "                   'com': com,\n",
    "                   'trxn': trxn,\n",
    "                   'aum': aum,\n",
    "                   'deals': deals,\n",
    "                   'clients': clients}}\n",
    "\n",
    "task = Task('binary', metric='logloss')\n",
    "\n",
    "roles={'target': 'sale_flg', 'drop': ['sale_amount', 'contacts']}\n",
    "\n",
    "reader = DictToNumpySeqReader(task=task, cv=3, seq_params=seq_params)\n",
    "\n",
    "feats = LGBMultiSeqSimpleFeatures()\n",
    "model = BoostLGBM()\n",
    "pipeline_lvl1 = MLPipeline([model], pre_selection=None, features_pipeline=feats, post_selection=None)\n",
    "\n",
    "automl = AutoML(reader, [\n",
    "    [pipeline_lvl1],\n",
    "], skip_conn=False)\n",
    "\n",
    "oof_pred = automl.fit_predict(X_train, roles=roles, verbose=3)\n",
    "\n",
    "metric_l = log_loss(train[roles['target']], oof_pred.data[:, 0])\n",
    "metric_a = roc_auc_score(train[roles['target']], oof_pred.data[:, 0])\n",
    "\n",
    "print('=============')\n",
    "print(f'log-loss: {metric_l}, roc_auc: {metric_a}')\n",
    "\n",
    "_pred = automl.predict(X_train)"
   ]
  },
  {
   "cell_type": "code",
   "execution_count": null,
   "metadata": {},
   "outputs": [],
   "source": []
  }
 ],
 "metadata": {
  "kernelspec": {
   "display_name": "Python 3",
   "language": "python",
   "name": "python3"
  },
  "language_info": {
   "codemirror_mode": {
    "name": "ipython",
    "version": 3
   },
   "file_extension": ".py",
   "mimetype": "text/x-python",
   "name": "python",
   "nbconvert_exporter": "python",
   "pygments_lexer": "ipython3",
   "version": "3.7.6"
  }
 },
 "nbformat": 4,
 "nbformat_minor": 4
}
